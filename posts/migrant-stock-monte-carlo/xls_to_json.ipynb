{
 "cells": [
  {
   "cell_type": "code",
   "execution_count": 27,
   "metadata": {},
   "outputs": [],
   "source": [
    "# extract total populations\n",
    "import pandas as pd\n",
    "import json\n",
    "import un_country"
   ]
  },
  {
   "cell_type": "code",
   "execution_count": 17,
   "metadata": {},
   "outputs": [],
   "source": [
    "df = pd.read_excel('./UN_MigrantStockTotal_2019.xlsx', sheet_name='Table 2')"
   ]
  },
  {
   "cell_type": "code",
   "execution_count": 66,
   "metadata": {},
   "outputs": [],
   "source": [
    "df = df.rename(columns={'Unnamed: 1': 'country', 'Unnamed: 10': 'pop'})\n",
    "tdf = df.iloc[38:, [1, 10]]\n",
    "\n",
    "not_countries = [\n",
    "    'Middle Africa',\n",
    "    'Southern Africa',\n",
    "    'Western Africa',\n",
    "    'NORTHERN AFRICA AND WESTERN ASIA',\n",
    "    'Northern Africa',\n",
    "    'Western Asia',\n",
    "    'CENTRAL AND SOUTHERN ASIA',\n",
    "    'Central Asia',\n",
    "    'Southern Asia',\n",
    "    'EASTERN AND SOUTH-EASTERN ASIA',\n",
    "    'Eastern Asia',\n",
    "    'South-Eastern Asia',\n",
    "    'LATIN AMERICA AND THE CARIBBEAN',\n",
    "    'Caribbean',\n",
    "    'Central America',\n",
    "    'South America',\n",
    "    'OCEANIA',\n",
    "    'Australia / New Zealand',\n",
    "    'Melanesia',\n",
    "    'Micronesia',\n",
    "    'Polynesia',\n",
    "    'EUROPE AND NORTHERN AMERICA',\n",
    "    'EUROPE',\n",
    "    'Eastern Europe',\n",
    "    'Northern Europe',\n",
    "    'Southern Europe',\n",
    "    'Western Europe',\n",
    "    'NORTHERN AMERICA',\n",
    "    'Channel Islands'\n",
    "]\n",
    "tdf = tdf[tdf['country'].isin(not_countries) == False]\n",
    "tdf['country'] = tdf['country'].map(un_country.id_of_string)\n",
    "assert (not tdf['country'].isnull().any())\n",
    "tdf = tdf.reset_index()"
   ]
  },
  {
   "cell_type": "code",
   "execution_count": 82,
   "metadata": {},
   "outputs": [],
   "source": [
    "d = {}\n",
    "for _, r in tdf.iterrows():\n",
    "    d[r['country']] = int(r['pop']* 1000)\n",
    "d = {k: v for k, v in sorted(d.items(), key=lambda item: item[1])}"
   ]
  },
  {
   "cell_type": "code",
   "execution_count": 83,
   "metadata": {},
   "outputs": [],
   "source": [
    "with open('d_pop_2019.json', 'w') as f:\n",
    "    json.dump(d, f, indent=4)"
   ]
  }
 ],
 "metadata": {
  "kernelspec": {
   "display_name": "Python 3",
   "language": "python",
   "name": "python3"
  },
  "language_info": {
   "codemirror_mode": {
    "name": "ipython",
    "version": 3
   },
   "file_extension": ".py",
   "mimetype": "text/x-python",
   "name": "python",
   "nbconvert_exporter": "python",
   "pygments_lexer": "ipython3",
   "version": "3.8.2"
  }
 },
 "nbformat": 4,
 "nbformat_minor": 4
}
