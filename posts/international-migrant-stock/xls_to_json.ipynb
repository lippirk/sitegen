{
 "cells": [
  {
   "cell_type": "code",
   "execution_count": 2,
   "metadata": {},
   "outputs": [],
   "source": [
    "import pandas as pd\n",
    "import json"
   ]
  },
  {
   "cell_type": "code",
   "execution_count": 3,
   "metadata": {},
   "outputs": [],
   "source": [
    "exp_num_un_countries = 232"
   ]
  },
  {
   "cell_type": "code",
   "execution_count": 4,
   "metadata": {},
   "outputs": [],
   "source": [
    "df = pd.read_excel('./UN_MigrantStockByOriginAndDestination_2019.xlsx', sheet_name='Table 1')\n",
    "df = df.rename(columns={'Unnamed: 0': 'year', 'Unnamed: 2': 'dest', 'Unnamed: 5': 'type_of_data', 'Unnamed: 6': 'total'})\n",
    "\n",
    "cdf = df.iloc[14:15, 9:]\n",
    "cdf = cdf.dropna(axis=1)\n",
    "\n",
    "em_total_df = df.iloc[1713:1714, :]\n",
    "df = df[16:]\n",
    "df = df[df['type_of_data'].notnull()]"
   ]
  },
  {
   "cell_type": "code",
   "execution_count": 5,
   "metadata": {},
   "outputs": [],
   "source": [
    "orig_countries = cdf.values.flatten().tolist()\n",
    "assert len(orig_countries) == exp_num_un_countries"
   ]
  },
  {
   "cell_type": "code",
   "execution_count": 6,
   "metadata": {},
   "outputs": [],
   "source": [
    "years = [1990, 1995, 2000, 2005, 2010, 2015, 2019]\n",
    "dest_countries = {}\n",
    "for y in years:\n",
    "    dest_countries[y] = df[df['year'] == y]['dest'].values.tolist()\n",
    "\n",
    "for k in dest_countries:\n",
    "    assert len(dest_countries[k]) == exp_num_un_countries"
   ]
  },
  {
   "cell_type": "code",
   "execution_count": 7,
   "metadata": {},
   "outputs": [],
   "source": [
    "rename = {}\n",
    "for i, oc in enumerate(orig_countries):\n",
    "    rename[f'Unnamed: {i + 9}'] = oc\n",
    "em_total_df = em_total_df.rename(columns=rename)\n",
    "df = df.rename(columns=rename)\n",
    "em_total_df = em_total_df[em_total_df.columns[~(em_total_df.columns.str.contains('Unnamed') | em_total_df.columns.str.contains('type_of_data'))]]\n",
    "df = df[df.columns[~(df.columns.str.contains('Unnamed') | df.columns.str.contains('type_of_data'))]]"
   ]
  },
  {
   "cell_type": "code",
   "execution_count": 19,
   "metadata": {},
   "outputs": [],
   "source": [
    "mdf = pd.read_csv('./mapping.csv')\n",
    "mapping = {}\n",
    "mapping_rev = {}\n",
    "for i in range(0, len(mdf)):\n",
    "    mapping[mdf.iloc[i, 0]] = mdf.iloc[i, 1]\n",
    "    mapping_rev[mdf.iloc[i, 1]] = mdf.iloc[i, 0]\n",
    "\n",
    "d2 = {\n",
    "    \"Falkland Islands (Malvinas)\": \"fk\",\n",
    "    \"Iran (Islamic Republic of)\": \"ir\",\n",
    "    \"Lao People's Democratic Republic\": \"la\",\n",
    "    \"Republic of Korea\": \"kr\",\n",
    "    \"Dem. People's Republic of Korea\": \"kp\",\n",
    "    \"United Republic of Tanzania\": \"tz\",\n",
    "    \"Bolivia (Plurinational State of)\": \"bo\",\n",
    "    \"Russian Federation\": \"ru\",\n",
    "    \"China, Hong Kong SAR\": \"hk\",\n",
    "    \"China, Macao SAR\": \"mo\",\n",
    "    \"Republic of Moldova\": \"md\",\n",
    "    \"State of Palestine\": \"ps\",\n",
    "    \"Syrian Arab Republic\": \"sy\",\n",
    "    \"Venezuela (Bolivarian Republic of)\": \"ve\",\n",
    "    \"Cabo Verde\": \"cv\"\n",
    "}\n",
    "\n",
    "skip = [\n",
    "    # can't determine country code from 'Channel Islands', could be Jersey or Guernsey\n",
    "    \"Channel Islands\"\n",
    "]\n",
    "\n",
    "def id_of_un_country_string(s):\n",
    "    if s in mapping_rev:\n",
    "        return mapping_rev[s]\n",
    "    elif s in d2:\n",
    "        return d2[s]\n",
    "    elif s in skip:\n",
    "        return None\n",
    "    else:\n",
    "        raise ValueError(f\"Unknown country string: {s}\")\n",
    "\n",
    "all_country_ids = [id_of_un_country_string(c) for c in orig_countries]\n",
    "all_country_ids = [x for x in all_country_ids if x != None]\n",
    "\n",
    "assert len(set(all_country_ids)) == len(orig_countries) - len(skip)"
   ]
  },
  {
   "cell_type": "code",
   "execution_count": 26,
   "metadata": {},
   "outputs": [],
   "source": [
    "id_of = {c : id_of_un_country_string(c) for c in orig_countries if id_of_un_country_string(c) is not None}\n",
    "of_id = {id_of_un_country_string(c): c for c in orig_countries if id_of_un_country_string(c) is not None}\n",
    "\n",
    "\n",
    "with open('un_country.py', 'w') as f:\n",
    "    print(f\"id_of_string = {id_of}\", file=f)\n",
    "    print(f\"string_of_id = {of_id}\", file=f)"
   ]
  },
  {
   "cell_type": "code",
   "execution_count": 9,
   "metadata": {},
   "outputs": [],
   "source": [
    "df_2019 = df[df.year == 2019]"
   ]
  },
  {
   "cell_type": "code",
   "execution_count": 10,
   "metadata": {},
   "outputs": [],
   "source": [
    "def insert(d, k1, k2, k3, v):\n",
    "    if k1 in [\"be\", \"mc\"] and k2 in [\"be\", \"mc\"]:\n",
    "        print(k1, k2)\n",
    "    if k1 in d:\n",
    "        if k2 in d[k1]:\n",
    "            if k3 in d[k1][k2]:\n",
    "                d[k1][k2][k3] += v\n",
    "            else:\n",
    "                d[k1][k2][k3] = v\n",
    "        else:\n",
    "            d[k1][k2] = {k3: v}\n",
    "    else:\n",
    "        d[k1] = {k2: {k3: v}}"
   ]
  },
  {
   "cell_type": "code",
   "execution_count": 11,
   "metadata": {},
   "outputs": [
    {
     "name": "stdout",
     "output_type": "stream",
     "text": [
      "{'gb': {'au': {'im': 10, 'em': 10}, 'im_tot': 1000}, 'au': {'gb': {'em': 10}}}\n"
     ]
    }
   ],
   "source": [
    "def insert(d, keys, v):\n",
    "    d_ = d\n",
    "    for k in keys[:-1]:\n",
    "        if k in d_:\n",
    "            d_ = d_[k]\n",
    "        else:\n",
    "            d_[k] = {}\n",
    "            d_ = d_[k]\n",
    "    lk = keys[-1]\n",
    "    if lk in d_:\n",
    "        d_[lk] += v\n",
    "    else:\n",
    "        d_[lk] = v\n",
    "        \n",
    "d = {}\n",
    "insert(d, ['gb', 'au', 'im'], 10)\n",
    "insert(d, ['au', 'gb', 'em'], 10)\n",
    "insert(d, ['gb', 'au', 'em'], 10)\n",
    "insert(d, ['gb', 'im_tot'], 1000)\n",
    "print(d)\n"
   ]
  },
  {
   "cell_type": "code",
   "execution_count": 12,
   "metadata": {},
   "outputs": [],
   "source": [
    "d_2019 = {}\n",
    "\n",
    "dest_ids = set()\n",
    "for _, r in df_2019.iterrows():\n",
    "    dcid = id_of_un_country_string(r['dest'])\n",
    "    dest_ids.add(dcid)\n",
    "    \n",
    "assert len(dest_ids) == len(df_2019)\n",
    "assert len(orig_countries) == len(df_2019)\n",
    "\n",
    "for _, r in df_2019.iterrows():\n",
    "    if r['dest'] in skip:\n",
    "        continue\n",
    "    dcid = id_of_un_country_string(r['dest'])\n",
    "    insert(d_2019, [dcid, 'im_tot'], r['total'])\n",
    "    insert(d_2019, [dcid, 'em_tot'], em_total_df[r['dest']].iloc[0])\n",
    "    for oc in orig_countries:\n",
    "        if oc in skip or oc == r['dest']:\n",
    "            continue\n",
    "        ocid = id_of_un_country_string(oc)\n",
    "        v = r[oc]\n",
    "\n",
    "        if v == v: # not NaN\n",
    "            # im = immigrants\n",
    "            # em = emigrants\n",
    "            #\n",
    "            # if a person emigrates from A to B,\n",
    "            # then they are an immigrant in B, from A\n",
    "            insert(d_2019, [dcid, ocid, 'im'], v)\n",
    "            insert(d_2019, [ocid, dcid, 'em'], v)"
   ]
  },
  {
   "cell_type": "code",
   "execution_count": 13,
   "metadata": {},
   "outputs": [],
   "source": [
    "for cid in d_2019:\n",
    "    d = d_2019[cid]\n",
    "    total_immigrants = d['im_tot']\n",
    "    sum_immigrants_known_origin = sum(d[ocid].get('im', 0) for ocid in d if ocid not in ['im_tot', 'em_tot'])\n",
    "    # ideally this would be an equality, but unfortunately for lots of countries we don't know\n",
    "    # where some of their immigrants came from\n",
    "    assert sum_immigrants_known_origin <= total_immigrants\n",
    "    \n",
    "ems = 0\n",
    "ims = 0\n",
    "for cid in d_2019:\n",
    "    for cid_ in d_2019[cid]:\n",
    "        if len(cid_) != 2:\n",
    "            continue\n",
    "        ims += d_2019[cid][cid_].get('im', 0)\n",
    "        ems += d_2019[cid][cid_].get('em', 0)\n",
    "assert ems == ims, f\"{ems} vs {ims}\"\n",
    "\n",
    "ems = 0\n",
    "ims = 0\n",
    "for cid in d_2019:\n",
    "    ems += d_2019[cid]['em_tot']\n",
    "    ims += d_2019[cid]['im_tot']\n",
    "# number of immigrants should equal number of emigrants, but it does not\n",
    "assert ems != ims, f\"{ems} vs {ims}, diff={ims - ems}\"       "
   ]
  },
  {
   "cell_type": "code",
   "execution_count": 29,
   "metadata": {},
   "outputs": [],
   "source": [
    "s = json.dumps(d_2019, indent=4)\n",
    "with open('d_2019.js', 'w', encoding='utf-8') as f:\n",
    "    f.write(f\"export const d = {s};\")\n",
    "with open('d_2019.json', 'w', encoding='utf-8') as f:\n",
    "    f.write(s)"
   ]
  },
  {
   "cell_type": "code",
   "execution_count": null,
   "metadata": {},
   "outputs": [],
   "source": []
  }
 ],
 "metadata": {
  "kernelspec": {
   "display_name": "Python 3",
   "language": "python",
   "name": "python3"
  },
  "language_info": {
   "codemirror_mode": {
    "name": "ipython",
    "version": 3
   },
   "file_extension": ".py",
   "mimetype": "text/x-python",
   "name": "python",
   "nbconvert_exporter": "python",
   "pygments_lexer": "ipython3",
   "version": "3.8.2"
  }
 },
 "nbformat": 4,
 "nbformat_minor": 4
}
